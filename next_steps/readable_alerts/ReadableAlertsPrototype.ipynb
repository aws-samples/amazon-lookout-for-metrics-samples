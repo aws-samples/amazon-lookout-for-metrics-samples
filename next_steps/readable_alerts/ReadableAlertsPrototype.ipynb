{
 "cells": [
  {
   "cell_type": "markdown",
   "metadata": {},
   "source": [
    "# More Readable Messages with Lookout for Metrics and Lambda\n",
    "\n",
    "This notebook will show how to create a Lambda function to receive your alerts for L4M and then better pass them on with SNS.\n"
   ]
  },
  {
   "cell_type": "markdown",
   "metadata": {},
   "source": [
    "## Sample\n",
    "\n",
    "Behold the Sample Object Sent to a Lambda:\n",
    "\n",
    "```json\n",
    "{\n",
    "  \"alertName\": \"CanaryAlert-009a9443-d34a-41af-b782-f6e409db55c2\",\n",
    "  \"alertEventId\": \"arn:aws:lookoutmetrics:us-east-1:246405784697:Alert:CanaryAlert-009a9443-d34a-41af-b782-f6e409db55c2:event/3bf090ef-5437-4262-920c-512d311c1503\",\n",
    "  \"anomalyDetectorArn\": \"arn:aws:lookoutmetrics:us-east-1:246405784697:AnomalyDetector:CanaryAD-BackTest-PT1H-RCF-LOW_VOL-12768b4f-8636-4089-b\",\n",
    "  \"alertArn\": \"arn:aws:lookoutmetrics:us-east-1:246405784697:Alert:CanaryAlert-009a9443-d34a-41af-b782-f6e409db55c2\",\n",
    "  \"alertDescription\": null,\n",
    "  \"impactedMetric\": {\n",
    "    \"metricName\": \"revenue\",\n",
    "    \"dimensionContribution\": [\n",
    "      {\n",
    "        \"dimensionName\": \"colorCode\",\n",
    "        \"dimensionValueContributions\": [\n",
    "          {\n",
    "            \"dimensionValue\": \"blue\",\n",
    "            \"valueContribution\": 100\n",
    "          }\n",
    "        ]\n",
    "      },\n",
    "      {\n",
    "        \"dimensionName\": \"deviceType\",\n",
    "        \"dimensionValueContributions\": [\n",
    "          {\n",
    "            \"dimensionValue\": \"tablet\",\n",
    "            \"valueContribution\": 100\n",
    "          }\n",
    "        ]\n",
    "      },\n",
    "      {\n",
    "        \"dimensionName\": \"marketplace\",\n",
    "        \"dimensionValueContributions\": [\n",
    "          {\n",
    "            \"dimensionValue\": \"CANADA\",\n",
    "            \"valueContribution\": 100\n",
    "          }\n",
    "        ]\n",
    "      },\n",
    "      {\n",
    "        \"dimensionName\": \"platform\",\n",
    "        \"dimensionValueContributions\": [\n",
    "          {\n",
    "            \"dimensionValue\": \"windows\",\n",
    "            \"valueContribution\": 100\n",
    "          }\n",
    "        ]\n",
    "      }\n",
    "    ],\n",
    "    \"relevantTimeSeries\": [\n",
    "      {\n",
    "        \"timeSeriesId\": \"04c628cd2f2d71dde555db5ffd3a98251d2fb027f1a88718bbf94efe26e22ed9f2e5fa9e25367f179ffe4457d38c4153f1c111bde700213d631f1684cfba59b9\",\n",
    "        \"dimensions\": [\n",
    "          {\n",
    "            \"dimensionName\": \"colorCode\",\n",
    "            \"dimensionValue\": \"blue\"\n",
    "          },\n",
    "          {\n",
    "            \"dimensionName\": \"deviceType\",\n",
    "            \"dimensionValue\": \"tablet\"\n",
    "          },\n",
    "          {\n",
    "            \"dimensionName\": \"marketplace\",\n",
    "            \"dimensionValue\": \"CANADA\"\n",
    "          },\n",
    "          {\n",
    "            \"dimensionName\": \"platform\",\n",
    "            \"dimensionValue\": \"windows\"\n",
    "          }\n",
    "        ],\n",
    "        \"metricValue\": 721501.084\n",
    "      }\n",
    "    ]\n",
    "  },\n",
    "  \"timestamp\": \"2021-02-17T11:00Z[UTC]\",\n",
    "  \"anomalyScore\": 28.29\n",
    "}\n",
    "```\n",
    "\n",
    "A problem with this is that it is a native JSON string, and we need to read that in for Python, so lets save it as a file \"input.json\""
   ]
  },
  {
   "cell_type": "code",
   "execution_count": 1,
   "metadata": {},
   "outputs": [],
   "source": [
    "# Read in the file as JSON\n",
    "import json\n",
    "input_js = json.loads(open('input.json').read())"
   ]
  },
  {
   "cell_type": "code",
   "execution_count": 2,
   "metadata": {},
   "outputs": [
    {
     "data": {
      "text/plain": [
       "{'alertName': 'CanaryAlert-009a9443-d34a-41af-b782-f6e409db55c2',\n",
       " 'alertEventId': 'arn:aws:lookoutmetrics:us-east-1:246405784697:Alert:CanaryAlert-009a9443-d34a-41af-b782-f6e409db55c2:event/3bf090ef-5437-4262-920c-512d311c1503',\n",
       " 'anomalyDetectorArn': 'arn:aws:lookoutmetrics:us-east-1:246405784697:AnomalyDetector:CanaryAD-BackTest-PT1H-RCF-LOW_VOL-12768b4f-8636-4089-b',\n",
       " 'alertArn': 'arn:aws:lookoutmetrics:us-east-1:246405784697:Alert:CanaryAlert-009a9443-d34a-41af-b782-f6e409db55c2',\n",
       " 'alertDescription': None,\n",
       " 'impactedMetric': {'metricName': 'revenue',\n",
       "  'dimensionContribution': [{'dimensionName': 'colorCode',\n",
       "    'dimensionValueContributions': [{'dimensionValue': 'blue',\n",
       "      'valueContribution': 100}]},\n",
       "   {'dimensionName': 'deviceType',\n",
       "    'dimensionValueContributions': [{'dimensionValue': 'tablet',\n",
       "      'valueContribution': 100}]},\n",
       "   {'dimensionName': 'marketplace',\n",
       "    'dimensionValueContributions': [{'dimensionValue': 'CANADA',\n",
       "      'valueContribution': 100}]},\n",
       "   {'dimensionName': 'platform',\n",
       "    'dimensionValueContributions': [{'dimensionValue': 'windows',\n",
       "      'valueContribution': 100}]}],\n",
       "  'relevantTimeSeries': [{'timeSeriesId': '04c628cd2f2d71dde555db5ffd3a98251d2fb027f1a88718bbf94efe26e22ed9f2e5fa9e25367f179ffe4457d38c4153f1c111bde700213d631f1684cfba59b9',\n",
       "    'dimensions': [{'dimensionName': 'colorCode', 'dimensionValue': 'blue'},\n",
       "     {'dimensionName': 'deviceType', 'dimensionValue': 'tablet'},\n",
       "     {'dimensionName': 'marketplace', 'dimensionValue': 'CANADA'},\n",
       "     {'dimensionName': 'platform', 'dimensionValue': 'windows'}],\n",
       "    'metricValue': 721501.084}]},\n",
       " 'timestamp': '2021-02-17T11:00Z[UTC]',\n",
       " 'anomalyScore': 28.29}"
      ]
     },
     "execution_count": 2,
     "metadata": {},
     "output_type": "execute_result"
    }
   ],
   "source": [
    "input_js"
   ]
  },
  {
   "cell_type": "markdown",
   "metadata": {},
   "source": [
    "In this more condensed version we can see there are a few things that need to be outlined in the alert:\n",
    "\n",
    "1. What has happened?\n",
    "2. Why has it happened?\n",
    "3. WHen did it happen?\n",
    "4. Who?(Less important here)\n",
    "5. How? also less important \n",
    "\n",
    "```\n",
    "That gives us something like this:\n",
    "\n",
    "An anomaly in METRIC name has been reported at TIMESTAMP.\n",
    "\n",
    "The anomaly impacted the following dimensions(DIMENSION_LIST).\n",
    "\n",
    "The anomaly score that was reported was SCORE.\n",
    "\n",
    "To Learn more information visit the Lookouk for Metrics Console here: CONSOLE_LINK\n",
    "```"
   ]
  },
  {
   "cell_type": "code",
   "execution_count": 27,
   "metadata": {},
   "outputs": [],
   "source": [
    "import datetime\n",
    "from dateutil.parser import parse"
   ]
  },
  {
   "cell_type": "code",
   "execution_count": 125,
   "metadata": {},
   "outputs": [],
   "source": [
    "def create_anomaly_string(input_json):\n",
    "    response = \"\"\n",
    "    timestamp = parse(input_json['timestamp'], fuzzy_with_tokens=True)[0]\n",
    "    timestamp1 = timestamp.strftime(\"%B %d %Y\")\n",
    "    timestamp2 = timestamp.strftime(\"%H:%M\")\n",
    "    # Setup the time\n",
    "    response += \"An anomaly in \" + str(input_json['impactedMetric']['metricName']) + \" on \" + timestamp1 + ' at ' + timestamp2 + \".\\n\"\n",
    "    # Now define your information \n",
    "    num_of_time_series = len(input_json['impactedMetric']['relevantTimeSeries'])\n",
    "    response += str(num_of_time_series) + \" time series was impacted.\\n\\n\"\n",
    "    \n",
    "    for ts in range(num_of_time_series):\n",
    "        response += \"TimeSeries: \" + str(num_of_time_series) + \" was impacted on the following dimensions and values:\\n\"\n",
    "        for item in input_json['impactedMetric']['relevantTimeSeries'][ts]['dimensions']:\n",
    "            response += \"\\t\" + item['dimensionName'] + \"-\" + item['dimensionValue'] + \"\\n\"\n",
    "    \n",
    "    response += \"\\nThe Anomaly  score was: \" + str(input_json['anomalyScore']) + \"\\nn\"\n",
    "    url = \"https://us-west-2.console.aws.amazon.com/lookoutmetrics/home?region=us-west-2#\"\n",
    "    url += str(input_json['anomalyDetectorArn'])\n",
    "    response += \"To learn more visit the Lookout for Metrics console at: \" + url + \" .\\n\"\n",
    " \n",
    "    return response"
   ]
  },
  {
   "cell_type": "code",
   "execution_count": 126,
   "metadata": {},
   "outputs": [
    {
     "name": "stdout",
     "output_type": "stream",
     "text": [
      "An anomaly in revenue on February 17 2021 at 11:00.\n",
      "1 time series was impacted.\n",
      "\n",
      "TimeSeries: 1 was impacted on the following dimensions and values:\n",
      "\tcolorCode-blue\n",
      "\tdeviceType-tablet\n",
      "\tmarketplace-CANADA\n",
      "\tplatform-windows\n",
      "\n",
      "The Anomaly  score was: 28.29\n",
      "nTo learn more visit the Lookout for Metrics console at: https://us-west-2.console.aws.amazon.com/lookoutmetrics/home?region=us-west-2#arn:aws:lookoutmetrics:us-east-1:246405784697:AnomalyDetector:CanaryAD-BackTest-PT1H-RCF-LOW_VOL-12768b4f-8636-4089-b .\n",
      "\n"
     ]
    }
   ],
   "source": [
    "response = create_anomaly_string(input_json=input_js)\n",
    "print(response)"
   ]
  },
  {
   "cell_type": "raw",
   "metadata": {},
   "source": [
    "arn:aws:lookoutmetrics:us-west-2:059124553121:AnomalyDetector:super-sample-detector/anomalies/anomaly/5dd87abe-e418-411c-bdb1-1259d10de380"
   ]
  },
  {
   "cell_type": "raw",
   "metadata": {},
   "source": [
    "https://us-west-2.console.aws.amazon.com/lookoutmetrics/home?region=us-west-2#arn:aws:lookoutmetrics:us-west-2:059124553121:AnomalyDetector:super-sample-detector/anomalies/anomaly/5dd87abe-e418-411c-bdb1-1259d10de380"
   ]
  }
 ],
 "metadata": {
  "kernelspec": {
   "display_name": "Python 3",
   "language": "python",
   "name": "python3"
  },
  "language_info": {
   "codemirror_mode": {
    "name": "ipython",
    "version": 3
   },
   "file_extension": ".py",
   "mimetype": "text/x-python",
   "name": "python",
   "nbconvert_exporter": "python",
   "pygments_lexer": "ipython3",
   "version": "3.7.0"
  }
 },
 "nbformat": 4,
 "nbformat_minor": 4
}
