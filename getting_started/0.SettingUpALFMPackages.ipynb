{
 "cells": [
  {
   "cell_type": "markdown",
   "metadata": {},
   "source": [
    "# Setting Up Your Environment\n",
    "\n",
    "This notebook assumes you completed the earlier steps in `README.md`, if you did not, go back and do that, the notebook will wait patiently for you to come back.\n",
    "\n",
    "Now the first thing to do is to patch the local copies of botocore, boto3, and the awscli. To do that we must first remove the old versions, then install the correct beta versions.\n",
    "\n",
    "\n",
    "## Removing the Old Versions:"
   ]
  },
  {
   "cell_type": "code",
   "execution_count": 1,
   "metadata": {},
   "outputs": [
    {
     "name": "stdout",
     "output_type": "stream",
     "text": [
      "Found existing installation: awscli 1.18.157\n",
      "Uninstalling awscli-1.18.157:\n",
      "  Successfully uninstalled awscli-1.18.157\n",
      "Found existing installation: boto3 1.15.16\n",
      "Uninstalling boto3-1.15.16:\n",
      "  Successfully uninstalled boto3-1.15.16\n",
      "Found existing installation: botocore 1.18.16\n",
      "Uninstalling botocore-1.18.16:\n",
      "  Successfully uninstalled botocore-1.18.16\n"
     ]
    }
   ],
   "source": [
    "!pip uninstall -y awscli\n",
    "!pip uninstall -y boto3\n",
    "!pip uninstall -y botocore"
   ]
  },
  {
   "cell_type": "markdown",
   "metadata": {},
   "source": [
    "## Installing the Beta Versions\n",
    "\n",
    "The commands below will create a location in `~/SageMaker/.sdk` to house the betas, this will allow them to persist if you need them after a reboot. \n",
    "\n",
    "At present yoiu will need to upload `39.zip` into this directory and the commands below will work just fine. Or you will need to obtain a recent release of the beta SDK. This block will be updated prior to any launch event."
   ]
  },
  {
   "cell_type": "code",
   "execution_count": 2,
   "metadata": {},
   "outputs": [
    {
     "name": "stdout",
     "output_type": "stream",
     "text": [
      "Archive:  39.zip\n",
      "   creating: /home/ec2-user/SageMaker/.sdk/reviews/\n",
      "  inflating: /home/ec2-user/SageMaker/.sdk/AWSCLI32PY3.msi  \n",
      "  inflating: /home/ec2-user/SageMaker/.sdk/AWSCLI32.msi  \n",
      "  inflating: /home/ec2-user/SageMaker/.sdk/botocore-1.19.10-py2.py3-none-any.whl  \n",
      "  inflating: /home/ec2-user/SageMaker/.sdk/awscli-1.18.170-py2.py3-none-any.whl  \n",
      "  inflating: /home/ec2-user/SageMaker/.sdk/models-starfort-report.json  \n",
      "  inflating: /home/ec2-user/SageMaker/.sdk/.functional  \n",
      "  inflating: /home/ec2-user/SageMaker/.sdk/manifest.json  \n",
      "  inflating: /home/ec2-user/SageMaker/.sdk/awscli-bundle.zip  \n",
      "  inflating: /home/ec2-user/SageMaker/.sdk/awscli-1.18.170.tar.gz  \n",
      "  inflating: /home/ec2-user/SageMaker/.sdk/boto3-1.16.10-py2.py3-none-any.whl  \n",
      "  inflating: /home/ec2-user/SageMaker/.sdk/AWSCLI64.msi  \n",
      "  inflating: /home/ec2-user/SageMaker/.sdk/boto3-1.16.10.tar.gz  \n",
      "  inflating: /home/ec2-user/SageMaker/.sdk/AWSCLISetup.exe  \n",
      "  inflating: /home/ec2-user/SageMaker/.sdk/AWSCLI64PY3.msi  \n",
      "  inflating: /home/ec2-user/SageMaker/.sdk/botocore-1.19.10.tar.gz  \n",
      "  inflating: /home/ec2-user/SageMaker/.sdk/.unit  \n",
      "  inflating: /home/ec2-user/SageMaker/.sdk/reviews/boto3-1.16.10.commits  \n",
      "  inflating: /home/ec2-user/SageMaker/.sdk/reviews/boto3-1.16.10.html  \n",
      "  inflating: /home/ec2-user/SageMaker/.sdk/reviews/botocore-1.19.10.html  \n",
      "  inflating: /home/ec2-user/SageMaker/.sdk/reviews/awscli-1.18.170.commits  \n",
      "  inflating: /home/ec2-user/SageMaker/.sdk/reviews/boto3-1.16.10.diff  \n",
      "  inflating: /home/ec2-user/SageMaker/.sdk/reviews/botocore-1.19.10.diff  \n",
      "  inflating: /home/ec2-user/SageMaker/.sdk/reviews/awscli-1.18.170.html  \n",
      "  inflating: /home/ec2-user/SageMaker/.sdk/reviews/awscli-1.18.170.diff  \n",
      "  inflating: /home/ec2-user/SageMaker/.sdk/reviews/botocore-1.19.10.commits  \n"
     ]
    }
   ],
   "source": [
    "!rm -rf ~/SageMaker/.sdk\n",
    "!mkdir -p ~/SageMaker/.sdk\n",
    "!unzip 39.zip -d ~/SageMaker/.sdk"
   ]
  },
  {
   "cell_type": "code",
   "execution_count": 3,
   "metadata": {},
   "outputs": [
    {
     "name": "stdout",
     "output_type": "stream",
     "text": [
      "Processing /home/ec2-user/SageMaker/.sdk/botocore-1.19.10-py2.py3-none-any.whl\n",
      "Requirement already satisfied: urllib3<1.26,>=1.25.4; python_version != \"3.4\" in /home/ec2-user/anaconda3/envs/python3/lib/python3.6/site-packages (from botocore==1.19.10) (1.25.10)\n",
      "Requirement already satisfied: python-dateutil<3.0.0,>=2.1 in /home/ec2-user/anaconda3/envs/python3/lib/python3.6/site-packages (from botocore==1.19.10) (2.8.1)\n",
      "Requirement already satisfied: jmespath<1.0.0,>=0.7.1 in /home/ec2-user/anaconda3/envs/python3/lib/python3.6/site-packages (from botocore==1.19.10) (0.10.0)\n",
      "Requirement already satisfied: six>=1.5 in /home/ec2-user/anaconda3/envs/python3/lib/python3.6/site-packages (from python-dateutil<3.0.0,>=2.1->botocore==1.19.10) (1.14.0)\n",
      "Installing collected packages: botocore\n",
      "Successfully installed botocore-1.19.10\n",
      "\u001b[33mWARNING: You are using pip version 20.0.2; however, version 20.2.4 is available.\n",
      "You should consider upgrading via the '/home/ec2-user/anaconda3/envs/python3/bin/python -m pip install --upgrade pip' command.\u001b[0m\n",
      "Processing /home/ec2-user/SageMaker/.sdk/boto3-1.16.10-py2.py3-none-any.whl\n",
      "Requirement already satisfied: jmespath<1.0.0,>=0.7.1 in /home/ec2-user/anaconda3/envs/python3/lib/python3.6/site-packages (from boto3==1.16.10) (0.10.0)\n",
      "Requirement already satisfied: botocore<1.20.0,>=1.19.10 in /home/ec2-user/anaconda3/envs/python3/lib/python3.6/site-packages (from boto3==1.16.10) (1.19.10)\n",
      "Requirement already satisfied: s3transfer<0.4.0,>=0.3.0 in /home/ec2-user/anaconda3/envs/python3/lib/python3.6/site-packages (from boto3==1.16.10) (0.3.3)\n",
      "Requirement already satisfied: python-dateutil<3.0.0,>=2.1 in /home/ec2-user/anaconda3/envs/python3/lib/python3.6/site-packages (from botocore<1.20.0,>=1.19.10->boto3==1.16.10) (2.8.1)\n",
      "Requirement already satisfied: urllib3<1.26,>=1.25.4; python_version != \"3.4\" in /home/ec2-user/anaconda3/envs/python3/lib/python3.6/site-packages (from botocore<1.20.0,>=1.19.10->boto3==1.16.10) (1.25.10)\n",
      "Requirement already satisfied: six>=1.5 in /home/ec2-user/anaconda3/envs/python3/lib/python3.6/site-packages (from python-dateutil<3.0.0,>=2.1->botocore<1.20.0,>=1.19.10->boto3==1.16.10) (1.14.0)\n",
      "Installing collected packages: boto3\n",
      "Successfully installed boto3-1.16.10\n",
      "\u001b[33mWARNING: You are using pip version 20.0.2; however, version 20.2.4 is available.\n",
      "You should consider upgrading via the '/home/ec2-user/anaconda3/envs/python3/bin/python -m pip install --upgrade pip' command.\u001b[0m\n",
      "Processing /home/ec2-user/SageMaker/.sdk/awscli-1.18.170-py2.py3-none-any.whl\n",
      "Requirement already satisfied: colorama<0.4.4,>=0.2.5; python_version != \"3.4\" in /home/ec2-user/anaconda3/envs/python3/lib/python3.6/site-packages (from awscli==1.18.170) (0.4.3)\n",
      "Requirement already satisfied: PyYAML<5.4,>=3.10; python_version != \"3.4\" in /home/ec2-user/anaconda3/envs/python3/lib/python3.6/site-packages (from awscli==1.18.170) (5.3.1)\n",
      "Requirement already satisfied: s3transfer<0.4.0,>=0.3.0 in /home/ec2-user/anaconda3/envs/python3/lib/python3.6/site-packages (from awscli==1.18.170) (0.3.3)\n",
      "Requirement already satisfied: botocore==1.19.10 in /home/ec2-user/anaconda3/envs/python3/lib/python3.6/site-packages (from awscli==1.18.170) (1.19.10)\n",
      "Requirement already satisfied: docutils<0.16,>=0.10 in /home/ec2-user/anaconda3/envs/python3/lib/python3.6/site-packages (from awscli==1.18.170) (0.15.2)\n",
      "Requirement already satisfied: rsa<=4.5.0,>=3.1.2; python_version != \"3.4\" in /home/ec2-user/anaconda3/envs/python3/lib/python3.6/site-packages (from awscli==1.18.170) (4.5)\n",
      "Requirement already satisfied: urllib3<1.26,>=1.25.4; python_version != \"3.4\" in /home/ec2-user/anaconda3/envs/python3/lib/python3.6/site-packages (from botocore==1.19.10->awscli==1.18.170) (1.25.10)\n",
      "Requirement already satisfied: jmespath<1.0.0,>=0.7.1 in /home/ec2-user/anaconda3/envs/python3/lib/python3.6/site-packages (from botocore==1.19.10->awscli==1.18.170) (0.10.0)\n",
      "Requirement already satisfied: python-dateutil<3.0.0,>=2.1 in /home/ec2-user/anaconda3/envs/python3/lib/python3.6/site-packages (from botocore==1.19.10->awscli==1.18.170) (2.8.1)\n",
      "Requirement already satisfied: pyasn1>=0.1.3 in /home/ec2-user/anaconda3/envs/python3/lib/python3.6/site-packages (from rsa<=4.5.0,>=3.1.2; python_version != \"3.4\"->awscli==1.18.170) (0.4.8)\n",
      "Requirement already satisfied: six>=1.5 in /home/ec2-user/anaconda3/envs/python3/lib/python3.6/site-packages (from python-dateutil<3.0.0,>=2.1->botocore==1.19.10->awscli==1.18.170) (1.14.0)\n",
      "Installing collected packages: awscli\n",
      "Successfully installed awscli-1.18.170\n",
      "\u001b[33mWARNING: You are using pip version 20.0.2; however, version 20.2.4 is available.\n",
      "You should consider upgrading via the '/home/ec2-user/anaconda3/envs/python3/bin/python -m pip install --upgrade pip' command.\u001b[0m\n"
     ]
    }
   ],
   "source": [
    "!pip install ~/SageMaker/.sdk/botocore-1.19.10-py2.py3-none-any.whl\n",
    "!pip install ~/SageMaker/.sdk/boto3-1.16.10-py2.py3-none-any.whl\n",
    "!pip install ~/SageMaker/.sdk/awscli-1.18.170-py2.py3-none-any.whl"
   ]
  },
  {
   "cell_type": "markdown",
   "metadata": {},
   "source": [
    "## Validating \n",
    "\n",
    "Just a test to make sure things are working correctly now that we have patched the SDK."
   ]
  },
  {
   "cell_type": "code",
   "execution_count": 4,
   "metadata": {},
   "outputs": [
    {
     "data": {
      "text/plain": [
       "{'ResponseMetadata': {'RequestId': '15321351-edd6-4023-ab7c-f4f8ebcf4b97',\n",
       "  'HTTPStatusCode': 200,\n",
       "  'HTTPHeaders': {'date': 'Wed, 04 Nov 2020 19:20:16 GMT',\n",
       "   'content-type': 'application/x-amz-json-1.1',\n",
       "   'content-length': '2609',\n",
       "   'connection': 'keep-alive',\n",
       "   'x-amzn-requestid': '15321351-edd6-4023-ab7c-f4f8ebcf4b97',\n",
       "   'x-amz-apigw-id': 'VfzFhFKWoAMFknA=',\n",
       "   'x-amzn-trace-id': 'Root=1-5fa2fef0-24c43202741246fa5b6db76e'},\n",
       "  'RetryAttempts': 0},\n",
       " 'MetricSetSummaryList': [{'MetricSetArn': 'arn:aws:poirot:us-east-1:059124553121:MetricSet/DetectorOctober28/october28dataset',\n",
       "   'AnomalyDetectorArn': 'arn:aws:poirot:us-east-1:059124553121:AnomalyDetector:DetectorOctober28',\n",
       "   'MetricSetName': 'october28dataset',\n",
       "   'CreationTime': datetime.datetime(2020, 10, 28, 18, 18, 20, 385000, tzinfo=tzlocal()),\n",
       "   'LastModificationTime': datetime.datetime(2020, 10, 28, 18, 18, 20, 385000, tzinfo=tzlocal())},\n",
       "  {'MetricSetArn': 'arn:aws:poirot:us-east-1:059124553121:MetricSet/initial-poirot-test-detector-1/initial-poirot-test-metric-set-1',\n",
       "   'AnomalyDetectorArn': 'arn:aws:poirot:us-east-1:059124553121:AnomalyDetector:initial-poirot-test-detector-1',\n",
       "   'MetricSetName': 'initial-poirot-test-metric-set-1',\n",
       "   'CreationTime': datetime.datetime(2020, 8, 4, 14, 15, 48, 482000, tzinfo=tzlocal()),\n",
       "   'LastModificationTime': datetime.datetime(2020, 10, 13, 2, 43, 6, 882000, tzinfo=tzlocal())},\n",
       "  {'MetricSetArn': 'arn:aws:poirot:us-east-1:059124553121:MetricSet/initial-poirot-testing-detector-1/initial-poirot-testing-metric-set-1',\n",
       "   'AnomalyDetectorArn': 'arn:aws:poirot:us-east-1:059124553121:AnomalyDetector:initial-poirot-testing-detector-1',\n",
       "   'MetricSetName': 'initial-poirot-testing-metric-set-1',\n",
       "   'CreationTime': datetime.datetime(2020, 8, 6, 18, 5, 52, 323000, tzinfo=tzlocal()),\n",
       "   'LastModificationTime': datetime.datetime(2020, 10, 13, 2, 43, 7, 103000, tzinfo=tzlocal())},\n",
       "  {'MetricSetArn': 'arn:aws:poirot:us-east-1:059124553121:MetricSet/initial-poirot-testing3-detector-1/initial-poirot-testing3-metric-set-1',\n",
       "   'AnomalyDetectorArn': 'arn:aws:poirot:us-east-1:059124553121:AnomalyDetector:initial-poirot-testing3-detector-1',\n",
       "   'MetricSetName': 'initial-poirot-testing3-metric-set-1',\n",
       "   'CreationTime': datetime.datetime(2020, 11, 4, 14, 39, 43, 354000, tzinfo=tzlocal()),\n",
       "   'LastModificationTime': datetime.datetime(2020, 11, 4, 14, 39, 43, 354000, tzinfo=tzlocal())},\n",
       "  {'MetricSetArn': 'arn:aws:poirot:us-east-1:059124553121:MetricSet/launchtimetest/futurelookingdataset',\n",
       "   'AnomalyDetectorArn': 'arn:aws:poirot:us-east-1:059124553121:AnomalyDetector:launchtimetest',\n",
       "   'MetricSetName': 'futurelookingdataset',\n",
       "   'CreationTime': datetime.datetime(2020, 10, 27, 21, 18, 20, 636000, tzinfo=tzlocal()),\n",
       "   'LastModificationTime': datetime.datetime(2020, 10, 27, 21, 18, 20, 636000, tzinfo=tzlocal())},\n",
       "  {'MetricSetArn': 'arn:aws:poirot:us-east-1:059124553121:MetricSet/october29historicaltest/historicaldatasettestoct29',\n",
       "   'AnomalyDetectorArn': 'arn:aws:poirot:us-east-1:059124553121:AnomalyDetector:october29historicaltest',\n",
       "   'MetricSetName': 'historicaldatasettestoct29',\n",
       "   'CreationTime': datetime.datetime(2020, 10, 29, 14, 45, 3, 761000, tzinfo=tzlocal()),\n",
       "   'LastModificationTime': datetime.datetime(2020, 10, 29, 14, 45, 3, 761000, tzinfo=tzlocal())},\n",
       "  {'MetricSetArn': 'arn:aws:poirot:us-east-1:059124553121:MetricSet/test-1-detector-1/test-1-metric-set-1',\n",
       "   'AnomalyDetectorArn': 'arn:aws:poirot:us-east-1:059124553121:AnomalyDetector:test-1-detector-1',\n",
       "   'MetricSetName': 'test-1-metric-set-1',\n",
       "   'CreationTime': datetime.datetime(2020, 7, 31, 15, 10, 52, 995000, tzinfo=tzlocal()),\n",
       "   'LastModificationTime': datetime.datetime(2020, 10, 13, 2, 43, 7, 302000, tzinfo=tzlocal())}]}"
      ]
     },
     "execution_count": 4,
     "metadata": {},
     "output_type": "execute_result"
    }
   ],
   "source": [
    "import boto3\n",
    "session = boto3.Session(region_name = \"us-east-1\")\n",
    "poirot = session.client(\"poirot\")\n",
    "poirot.list_metric_sets()"
   ]
  },
  {
   "cell_type": "markdown",
   "metadata": {},
   "source": [
    "If the code above executed with a 200 response code, you are now ready to move to `1.GettingStartedWithALFM.ipynb`. \n",
    "\n",
    "Good luck!"
   ]
  },
  {
   "cell_type": "code",
   "execution_count": null,
   "metadata": {},
   "outputs": [],
   "source": []
  }
 ],
 "metadata": {
  "kernelspec": {
   "display_name": "Python 3",
   "language": "python",
   "name": "python3"
  },
  "language_info": {
   "codemirror_mode": {
    "name": "ipython",
    "version": 3
   },
   "file_extension": ".py",
   "mimetype": "text/x-python",
   "name": "python",
   "nbconvert_exporter": "python",
   "pygments_lexer": "ipython3",
   "version": "3.7.0"
  }
 },
 "nbformat": 4,
 "nbformat_minor": 4
}
