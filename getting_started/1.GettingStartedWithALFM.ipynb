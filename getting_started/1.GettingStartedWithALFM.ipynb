{
 "cells": [
  {
   "cell_type": "markdown",
   "metadata": {},
   "source": [
    "# Getting Started With Amazon Lookout for Metrics\n",
    "\n",
    "Amazon Lookout for Metrics can help you identify anomalies within your data regardless of its origin. By following this notebook you will build out a solution using Poirot to capture incoming data and to detect anomalies within it.\n",
    "\n",
    "This guide assumes you completed all the work in `README.md`, if you have not, go back to that first then return\n",
    "\n",
    "## Poirot's Workflow\n",
    "\n",
    "1. Create a detector and configure its detection properties.\n",
    "2. Prepare your source data and create an AWS Identity and Access Management (IAM) role that can access the data.\n",
    "3. Create a dataset:\n",
    "    1. Provide the location of your source data and the IAM permissions needed to access it. \n",
    "    1. Define the metrics that you want to investigate.\n",
    "    1. Attach the dataset to your detector.\n",
    "4. Activate the detector.\n",
    "5. (Optional) Set up alerts to get notified when Poirot detects important outliers.\n",
    "6. Inspect the detected outliers to figure out their root causes.\n",
    "7. Provide feedback on the outliers to improve predictor accuracy.\n",
    "\n",
    "Additionally in the next section after this notebook you will learn how to simulate new data and to stream it to test the service in more detail.\n",
    "\n",
    "As with nearly all projects involving AWS, the first step is to import the boto3 package then to establish a connection to AWS:"
   ]
  },
  {
   "cell_type": "code",
   "execution_count": 1,
   "metadata": {},
   "outputs": [],
   "source": [
    "import boto3"
   ]
  },
  {
   "cell_type": "code",
   "execution_count": 2,
   "metadata": {},
   "outputs": [],
   "source": [
    "session = boto3.Session(region_name = \"us-east-1\")\n",
    "poirot = session.client(\"poirot\")"
   ]
  },
  {
   "cell_type": "markdown",
   "metadata": {},
   "source": [
    "Next validate that you are receiving anything back from this API call below, if you get a 200 code it means you are whitelisted and connecting to the service successfully!"
   ]
  },
  {
   "cell_type": "code",
   "execution_count": 3,
   "metadata": {},
   "outputs": [
    {
     "data": {
      "text/plain": [
       "{'ResponseMetadata': {'RequestId': '37b4e5c3-f9b1-49b7-b798-86ad19dceaa7',\n",
       "  'HTTPStatusCode': 200,\n",
       "  'HTTPHeaders': {'date': 'Tue, 24 Nov 2020 21:37:20 GMT',\n",
       "   'content-type': 'application/x-amz-json-1.1',\n",
       "   'content-length': '4065',\n",
       "   'connection': 'keep-alive',\n",
       "   'x-amzn-requestid': '37b4e5c3-f9b1-49b7-b798-86ad19dceaa7',\n",
       "   'x-amz-apigw-id': 'WiB6kHtYIAMFveQ=',\n",
       "   'x-amzn-trace-id': 'Root=1-5fbd7d10-2825d6a61b4fc16d6a7d2ea0'},\n",
       "  'RetryAttempts': 0},\n",
       " 'MetricSetSummaryList': [{'MetricSetArn': 'arn:aws:poirot:us-east-1:059124553121:MetricSet/DetectorOctober28/october28dataset',\n",
       "   'AnomalyDetectorArn': 'arn:aws:poirot:us-east-1:059124553121:AnomalyDetector:DetectorOctober28',\n",
       "   'MetricSetName': 'october28dataset',\n",
       "   'CreationTime': datetime.datetime(2020, 10, 28, 14, 18, 20, 385000, tzinfo=tzlocal()),\n",
       "   'LastModificationTime': datetime.datetime(2020, 10, 28, 14, 18, 20, 385000, tzinfo=tzlocal())},\n",
       "  {'MetricSetArn': 'arn:aws:poirot:us-east-1:059124553121:MetricSet/InitialBacktestDetector/InitialBacktestDataSet',\n",
       "   'AnomalyDetectorArn': 'arn:aws:poirot:us-east-1:059124553121:AnomalyDetector:InitialBacktestDetector',\n",
       "   'MetricSetName': 'InitialBacktestDataSet',\n",
       "   'CreationTime': datetime.datetime(2020, 11, 18, 19, 3, 36, 427000, tzinfo=tzlocal()),\n",
       "   'LastModificationTime': datetime.datetime(2020, 11, 18, 19, 3, 36, 428000, tzinfo=tzlocal())},\n",
       "  {'MetricSetArn': 'arn:aws:poirot:us-east-1:059124553121:MetricSet/boringsample/octoberbacktestdata',\n",
       "   'AnomalyDetectorArn': 'arn:aws:poirot:us-east-1:059124553121:AnomalyDetector:boringsample',\n",
       "   'MetricSetName': 'octoberbacktestdata',\n",
       "   'CreationTime': datetime.datetime(2020, 11, 5, 15, 20, 14, 219000, tzinfo=tzlocal()),\n",
       "   'LastModificationTime': datetime.datetime(2020, 11, 5, 15, 20, 14, 219000, tzinfo=tzlocal())},\n",
       "  {'MetricSetArn': 'arn:aws:poirot:us-east-1:059124553121:MetricSet/initial-poirot-test-detector-1/initial-poirot-test-metric-set-1',\n",
       "   'AnomalyDetectorArn': 'arn:aws:poirot:us-east-1:059124553121:AnomalyDetector:initial-poirot-test-detector-1',\n",
       "   'MetricSetName': 'initial-poirot-test-metric-set-1',\n",
       "   'CreationTime': datetime.datetime(2020, 8, 4, 10, 15, 48, 482000, tzinfo=tzlocal()),\n",
       "   'LastModificationTime': datetime.datetime(2020, 10, 12, 22, 43, 6, 882000, tzinfo=tzlocal())},\n",
       "  {'MetricSetArn': 'arn:aws:poirot:us-east-1:059124553121:MetricSet/initial-poirot-testing-cf-detector-1/initial-poirot-testing-cf-metric-set-1',\n",
       "   'AnomalyDetectorArn': 'arn:aws:poirot:us-east-1:059124553121:AnomalyDetector:initial-poirot-testing-cf-detector-1',\n",
       "   'MetricSetName': 'initial-poirot-testing-cf-metric-set-1',\n",
       "   'CreationTime': datetime.datetime(2020, 11, 4, 14, 22, 55, 336000, tzinfo=tzlocal()),\n",
       "   'LastModificationTime': datetime.datetime(2020, 11, 4, 14, 22, 55, 336000, tzinfo=tzlocal())},\n",
       "  {'MetricSetArn': 'arn:aws:poirot:us-east-1:059124553121:MetricSet/initial-poirot-testing-detector-1/initial-poirot-testing-metric-set-1',\n",
       "   'AnomalyDetectorArn': 'arn:aws:poirot:us-east-1:059124553121:AnomalyDetector:initial-poirot-testing-detector-1',\n",
       "   'MetricSetName': 'initial-poirot-testing-metric-set-1',\n",
       "   'CreationTime': datetime.datetime(2020, 8, 6, 14, 5, 52, 323000, tzinfo=tzlocal()),\n",
       "   'LastModificationTime': datetime.datetime(2020, 10, 12, 22, 43, 7, 103000, tzinfo=tzlocal())},\n",
       "  {'MetricSetArn': 'arn:aws:poirot:us-east-1:059124553121:MetricSet/initial-poirot-testing3-detector-1/initial-poirot-testing3-metric-set-1',\n",
       "   'AnomalyDetectorArn': 'arn:aws:poirot:us-east-1:059124553121:AnomalyDetector:initial-poirot-testing3-detector-1',\n",
       "   'MetricSetName': 'initial-poirot-testing3-metric-set-1',\n",
       "   'CreationTime': datetime.datetime(2020, 11, 4, 9, 39, 43, 354000, tzinfo=tzlocal()),\n",
       "   'LastModificationTime': datetime.datetime(2020, 11, 4, 9, 39, 43, 354000, tzinfo=tzlocal())},\n",
       "  {'MetricSetArn': 'arn:aws:poirot:us-east-1:059124553121:MetricSet/launchtimetest/futurelookingdataset',\n",
       "   'AnomalyDetectorArn': 'arn:aws:poirot:us-east-1:059124553121:AnomalyDetector:launchtimetest',\n",
       "   'MetricSetName': 'futurelookingdataset',\n",
       "   'CreationTime': datetime.datetime(2020, 10, 27, 17, 18, 20, 636000, tzinfo=tzlocal()),\n",
       "   'LastModificationTime': datetime.datetime(2020, 10, 27, 17, 18, 20, 636000, tzinfo=tzlocal())},\n",
       "  {'MetricSetArn': 'arn:aws:poirot:us-east-1:059124553121:MetricSet/october29historicaltest/historicaldatasettestoct29',\n",
       "   'AnomalyDetectorArn': 'arn:aws:poirot:us-east-1:059124553121:AnomalyDetector:october29historicaltest',\n",
       "   'MetricSetName': 'historicaldatasettestoct29',\n",
       "   'CreationTime': datetime.datetime(2020, 10, 29, 10, 45, 3, 761000, tzinfo=tzlocal()),\n",
       "   'LastModificationTime': datetime.datetime(2020, 10, 29, 10, 45, 3, 761000, tzinfo=tzlocal())},\n",
       "  {'MetricSetArn': 'arn:aws:poirot:us-east-1:059124553121:MetricSet/shimoxhisttestbk/sample_historical_shim_bktest',\n",
       "   'AnomalyDetectorArn': 'arn:aws:poirot:us-east-1:059124553121:AnomalyDetector:shimoxhisttestbk',\n",
       "   'MetricSetDescription': 'tada',\n",
       "   'MetricSetName': 'sample_historical_shim_bktest',\n",
       "   'CreationTime': datetime.datetime(2020, 11, 11, 12, 20, 31, 324000, tzinfo=tzlocal()),\n",
       "   'LastModificationTime': datetime.datetime(2020, 11, 11, 12, 20, 31, 325000, tzinfo=tzlocal())},\n",
       "  {'MetricSetArn': 'arn:aws:poirot:us-east-1:059124553121:MetricSet/test-1-detector-1/test-1-metric-set-1',\n",
       "   'AnomalyDetectorArn': 'arn:aws:poirot:us-east-1:059124553121:AnomalyDetector:test-1-detector-1',\n",
       "   'MetricSetName': 'test-1-metric-set-1',\n",
       "   'CreationTime': datetime.datetime(2020, 7, 31, 11, 10, 52, 995000, tzinfo=tzlocal()),\n",
       "   'LastModificationTime': datetime.datetime(2020, 10, 12, 22, 43, 7, 302000, tzinfo=tzlocal())}]}"
      ]
     },
     "execution_count": 3,
     "metadata": {},
     "output_type": "execute_result"
    }
   ],
   "source": [
    "poirot.list_metric_sets()"
   ]
  },
  {
   "cell_type": "markdown",
   "metadata": {},
   "source": [
    "### S3 Bucket\n",
    "\n",
    "As mentioned above, the data needs to exist somehwere, the code below will create a bucket for you to use. "
   ]
  },
  {
   "cell_type": "code",
   "execution_count": 5,
   "metadata": {},
   "outputs": [
    {
     "data": {
      "text/plain": [
       "{'ResponseMetadata': {'RequestId': '40229DFA055C88F9',\n",
       "  'HostId': '+I6bNUuF0+useJ39XaaC174jO+rAjEh2B3Exm0adGXcgLH7EiVD31kKHe2m+4Z7Iiyd2aSNu3EI=',\n",
       "  'HTTPStatusCode': 200,\n",
       "  'HTTPHeaders': {'x-amz-id-2': '+I6bNUuF0+useJ39XaaC174jO+rAjEh2B3Exm0adGXcgLH7EiVD31kKHe2m+4Z7Iiyd2aSNu3EI=',\n",
       "   'x-amz-request-id': '40229DFA055C88F9',\n",
       "   'date': 'Wed, 04 Nov 2020 19:21:07 GMT',\n",
       "   'location': '/059124553121poirottestcf',\n",
       "   'content-length': '0',\n",
       "   'server': 'AmazonS3'},\n",
       "  'RetryAttempts': 0},\n",
       " 'Location': '/059124553121poirottestcf'}"
      ]
     },
     "execution_count": 5,
     "metadata": {},
     "output_type": "execute_result"
    }
   ],
   "source": [
    "s3 = boto3.client('s3')\n",
    "account_id = boto3.client('sts').get_caller_identity().get('Account')\n",
    "s3_bucket = account_id + \"alfmtestcf\"\n",
    "region = \"us-east-1\"\n",
    "s3.create_bucket(Bucket=s3_bucket)"
   ]
  },
  {
   "cell_type": "markdown",
   "metadata": {},
   "source": [
    "## Creating A Detector\n",
    "\n",
    "Now the basic external resources are ready, so it is time to get started with Amazon Lookout for Metrics (ALFM), that starts with creating a `Detector`.\n",
    "\n",
    "### Detectors\n",
    "\n",
    "To detect outliers, ALFM builds a machine learning model that is trained with your source data. This model, called a `detector`, is automatically trained with the machine learning algorithm that best fits your data and use case. You can either provide your historical data for training, if you have any, or get started with real-time data, and ALFM will learn on-the-go. \n",
    "\n",
    "You specify the Amazon S3 location that ALFM should continuously monitor for new data, and your detector analyzes your data and returns information about the outliers that it detected. When you create a `detector`, you also specify a `detecting domain` and an `outlier detection frequency`. \n",
    "\n",
    "A `detecting domain` helps the detector learn how to best handle a specific business use case, such as advertising and marketing, retail, games, Fintech, software and internet, telecommunications, and more. \n",
    "\n",
    "The `outlier detection frequency` specifies how frequently the detector should look for new data, run analysis and alert you with any interesting findings.\n",
    "\n",
    "\n",
    "Execute the cells below to create a new anomaly detector with a frequency of 5 minutes. \n",
    "\n",
    "**NOTE** If you do not have an S3 bucket created for your data, go create one first then come back to these cells."
   ]
  },
  {
   "cell_type": "code",
   "execution_count": 6,
   "metadata": {},
   "outputs": [],
   "source": [
    "project = \"initial-alfm-testing-cf\" # just a string used to name resources such as MetricSet, Detector, etc.\n",
    "\n",
    "frequency = \"PT5M\" # one of 'P1D', 'PT1H', 'PT10M' and 'PT5M'"
   ]
  },
  {
   "cell_type": "markdown",
   "metadata": {},
   "source": [
    "The cell below will leverage the advertising domain, additional domains will be listed on the docs page or within a drop down in the service console."
   ]
  },
  {
   "cell_type": "code",
   "execution_count": 8,
   "metadata": {},
   "outputs": [
    {
     "data": {
      "text/plain": [
       "'arn:aws:poirot:us-east-1:059124553121:AnomalyDetector:initial-poirot-testing-cf-detector-1'"
      ]
     },
     "execution_count": 8,
     "metadata": {},
     "output_type": "execute_result"
    }
   ],
   "source": [
    "response = poirot.create_anomaly_detector( \n",
    "    AnomalyDetectorName = project + \"-detector-1\",\n",
    "    AnomalyDetectorDomain = \"ADS\",\n",
    "    AnomalyDetectorDescription = \"My Detector\",\n",
    "    AnomalyDetectorConfig = {\n",
    "        \"AnomalyDetectorFrequency\" : frequency,\n",
    "    },\n",
    ")\n",
    "\n",
    "anomaly_detector_arn = response[\"AnomalyDetectorArn\"]\n",
    "anomaly_detector_arn"
   ]
  },
  {
   "cell_type": "markdown",
   "metadata": {},
   "source": [
    "See details of created detector and it's status (should be `INACTIVE` at this point)"
   ]
  },
  {
   "cell_type": "code",
   "execution_count": 9,
   "metadata": {},
   "outputs": [
    {
     "data": {
      "text/plain": [
       "{'ResponseMetadata': {'RequestId': '5478715e-f52e-486f-8ea2-82977ed88e68',\n",
       "  'HTTPStatusCode': 200,\n",
       "  'HTTPHeaders': {'date': 'Wed, 04 Nov 2020 19:21:24 GMT',\n",
       "   'content-type': 'application/x-amz-json-1.1',\n",
       "   'content-length': '465',\n",
       "   'connection': 'keep-alive',\n",
       "   'x-amzn-requestid': '5478715e-f52e-486f-8ea2-82977ed88e68',\n",
       "   'x-amz-apigw-id': 'VfzQSExzoAMFXEA=',\n",
       "   'x-amzn-trace-id': 'Root=1-5fa2ff34-11df99ce4f7d395706f09d09'},\n",
       "  'RetryAttempts': 0},\n",
       " 'AnomalyDetectorArn': 'arn:aws:poirot:us-east-1:059124553121:AnomalyDetector:initial-poirot-testing-cf-detector-1',\n",
       " 'AnomalyDetectorName': 'initial-poirot-testing-cf-detector-1',\n",
       " 'AnomalyDetectorDescription': 'My Detector',\n",
       " 'AnomalyDetectorDomain': 'ADS',\n",
       " 'AnomalyDetectorConfig': {'AnomalyDetectorFrequency': 'PT5M'},\n",
       " 'CreationTime': datetime.datetime(2020, 11, 4, 19, 21, 21, 535000, tzinfo=tzlocal()),\n",
       " 'LastModificationTime': datetime.datetime(2020, 11, 4, 19, 21, 21, 535000, tzinfo=tzlocal()),\n",
       " 'Status': 'INACTIVE'}"
      ]
     },
     "execution_count": 9,
     "metadata": {},
     "output_type": "execute_result"
    }
   ],
   "source": [
    "poirot.describe_anomaly_detector(AnomalyDetectorArn=anomaly_detector_arn)"
   ]
  },
  {
   "cell_type": "markdown",
   "metadata": {},
   "source": [
    "## Define Metrics\n",
    "\n",
    "### Measures and Dimensions\n",
    "\n",
    "`Measures` are variables or key performance indicators on which customers want to detect outliers. Revenue is an example of a measure. `Dimensions` are meta-data that represent categorical information about the measures. \n",
    "\n",
    "For example, revenue can have dimensions such as store ID, product category\n",
    "or city. Customers may want to monitor their data for outliers in revenue for every store ID, product category and city combination, and not just aggregated revenue. You can designate up to five measures and five dimensions per dataset.\n",
    "\n",
    "### Metrics \n",
    "\n",
    "\n",
    "After creating a detector, and mapping your measures and dimensions, ALFM will analyze each combination of these measures and dimensions. For the above example with revenue as the measure and store ID, product category, and city as dimensions, imagine that store ID dimension has 20 unique values (SID1, SID2, etc.), product category has 10 unique values (Gift Card, TV, Phone, Laptop, etc.), and city has 200 unique values (Seattle, San Francisco, Portland, etc.). Each unique combination of measures with the dimension values (e.g. Revenue/SID1/Gift Card/Seattle) is a `metric`. In this case, there are 20 * 10 * 200 = 40,000 metrics. ALFM detects outliers at the most granular level so you are able to pin-point any unexpected behavior in your data.\n",
    "\n",
    "### Datasets\n",
    "\n",
    "Measures, dimensions and metrics map to `datasets`, which also contain the Amazon S3 locations of your source data, an IAM role that has both read and write permissions to those Amazon S3 locations, and the rate at which data should be ingested from the source location (the upload frequency and data ingestion delay).\n",
    "\n",
    "\n",
    "First let's create a role that can work with the ALFM service:\n"
   ]
  },
  {
   "cell_type": "code",
   "execution_count": null,
   "metadata": {},
   "outputs": [
    {
     "name": "stdout",
     "output_type": "stream",
     "text": [
      "Created ALFMTestRole\n",
      "Attaching policies\n",
      "Waiting for a minute to allow IAM role policy attachment to propagate\n"
     ]
    }
   ],
   "source": [
    "import poirot_utility as pu\n",
    "role_name = \"ALFMTestRole\"\n",
    "role_arn = pu.get_or_create_iam_role(role_name)"
   ]
  },
  {
   "cell_type": "markdown",
   "metadata": {},
   "source": [
    "At this point the choice of MetricType is completely arbitrary as the service does nothing with that info, but the type should be one of legal types per selected domain earlier. Match the metrics (aka measures) and dimensions to what you have in your dataset. In our sample dataset, there is single dimension `product` with values `A` or `B` and only 2 measures: `count` - number of products sold and `price` the sale price (perhaps different vendors have different prices)."
   ]
  },
  {
   "cell_type": "code",
   "execution_count": 11,
   "metadata": {},
   "outputs": [
    {
     "data": {
      "text/plain": [
       "'arn:aws:poirot:us-east-1:059124553121:MetricSet/initial-poirot-testing-cf-detector-1/initial-poirot-testing-cf-metric-set-1'"
      ]
     },
     "execution_count": 11,
     "metadata": {},
     "output_type": "execute_result"
    }
   ],
   "source": [
    "s3_path_format = 's3://'+ s3_bucket + '/{{yyyy}}/{{MM}}/{{dd}}/{{HH}}-{{mm}}'\n",
    "\n",
    "params = {\n",
    "    \"AnomalyDetectorArn\": anomaly_detector_arn,\n",
    "    \"MetricSetName\" : project + '-metric-set-1',\n",
    "    \"MetricList\" : [\n",
    "        {\n",
    "            \"MetricName\" : \"count\",\n",
    "            \"MetricType\" : \"CLICKS\",\n",
    "            \"AggregationFunction\" : \"SUM\",\n",
    "        },\n",
    "        {\n",
    "            \"MetricName\" : \"price\",\n",
    "            \"MetricType\" : \"VALUE_PER_VISIT\",\n",
    "            \"AggregationFunction\" : \"AVG\",\n",
    "        },\n",
    "    ],\n",
    "\n",
    "    \"DimensionList\" : [ \"product\" ],\n",
    "\n",
    "    \"TimestampColumn\" : {\n",
    "        \"ColumnName\" : \"timestamp\",\n",
    "        \"ColumnFormat\" : \"yyyy-MM-dd HH:mm:ss\",\n",
    "    },\n",
    "\n",
    "   #\"Delay\" : 120, # seconds the detector will wait before attempting to read latest data per current time and detection frequency below\n",
    "    \"MetricSetFrequency\" : frequency,\n",
    "\n",
    "    \"MetricSource\" : {\n",
    "        \"S3SourceConfig\": {\n",
    "            \"RoleArn\" : role_arn,\n",
    "#            \"HistoricalDataPathList\": [\n",
    "#                s3_path_training_prefix,\n",
    "#            ],\n",
    "            \"TemplatedPathList\": [\n",
    "                s3_path_format,\n",
    "            ],\n",
    "\n",
    "            \"FileFormatDescriptor\" : {\n",
    "                \"CsvFormatDescriptor\" : {\n",
    "                    \"FileCompression\" : \"NONE\",\n",
    "                    \"Charset\" : \"UTF-8\",\n",
    "                    \"ContainsHeader\" : True,\n",
    "                    \"Delimiter\" : \",\",\n",
    "#                    \"HeaderList\" : [\n",
    "#                        \"timestamp\",\n",
    "#                        \"product\",\n",
    "#                        \"count\",\n",
    "#                        \"price\"\n",
    "#                    ],\n",
    "                    \"QuoteSymbol\" : '\"'\n",
    "                },\n",
    "            }\n",
    "        }\n",
    "    },\n",
    "}\n",
    "\n",
    "response = poirot.create_metric_set( ** params )\n",
    "\n",
    "metric_set_arn = response[\"MetricSetArn\"]\n",
    "metric_set_arn"
   ]
  },
  {
   "cell_type": "markdown",
   "metadata": {},
   "source": [
    "To see that the metric set was created correctly:"
   ]
  },
  {
   "cell_type": "code",
   "execution_count": 12,
   "metadata": {},
   "outputs": [
    {
     "data": {
      "text/plain": [
       "{'ResponseMetadata': {'RequestId': '6c147030-1011-402a-895d-d8cdb763d4f9',\n",
       "  'HTTPStatusCode': 200,\n",
       "  'HTTPHeaders': {'date': 'Wed, 04 Nov 2020 19:22:56 GMT',\n",
       "   'content-type': 'application/x-amz-json-1.1',\n",
       "   'content-length': '1289',\n",
       "   'connection': 'keep-alive',\n",
       "   'x-amzn-requestid': '6c147030-1011-402a-895d-d8cdb763d4f9',\n",
       "   'x-amz-apigw-id': 'VfzepHb4IAMF5YA=',\n",
       "   'x-amzn-trace-id': 'Root=1-5fa2ff90-55da92985462a2c32d98586d'},\n",
       "  'RetryAttempts': 0},\n",
       " 'MetricSetArn': 'arn:aws:poirot:us-east-1:059124553121:MetricSet/initial-poirot-testing-cf-detector-1/initial-poirot-testing-cf-metric-set-1',\n",
       " 'AnomalyDetectorArn': 'arn:aws:poirot:us-east-1:059124553121:AnomalyDetector:initial-poirot-testing-cf-detector-1',\n",
       " 'MetricSetName': 'initial-poirot-testing-cf-metric-set-1',\n",
       " 'CreationTime': datetime.datetime(2020, 11, 4, 19, 22, 55, 336000, tzinfo=tzlocal()),\n",
       " 'LastModificationTime': datetime.datetime(2020, 11, 4, 19, 22, 55, 336000, tzinfo=tzlocal()),\n",
       " 'Offset': 0,\n",
       " 'MetricList': [{'MetricName': 'count',\n",
       "   'MetricType': 'CLICKS',\n",
       "   'AggregationFunction': 'SUM'},\n",
       "  {'MetricName': 'price',\n",
       "   'MetricType': 'VALUE_PER_VISIT',\n",
       "   'AggregationFunction': 'AVG'}],\n",
       " 'TimestampColumn': {'ColumnName': 'timestamp',\n",
       "  'ColumnFormat': 'yyyy-MM-dd HH:mm:ss'},\n",
       " 'DimensionList': ['product'],\n",
       " 'MetricSetFrequency': 'PT5M',\n",
       " 'Timezone': 'UTC',\n",
       " 'MetricSource': {'S3SourceConfig': {'RoleArn': 'arn:aws:iam::059124553121:role/PoirotTestRole',\n",
       "   'TemplatedPathList': ['s3://059124553121poirottestcf/{{yyyy}}/{{MM}}/{{dd}}/{{HH}}-{{mm}}'],\n",
       "   'FileFormatDescriptor': {'CsvFormatDescriptor': {'FileCompression': 'NONE',\n",
       "     'Charset': 'UTF-8',\n",
       "     'ContainsHeader': True,\n",
       "     'Delimiter': ',',\n",
       "     'QuoteSymbol': '\"'}}}}}"
      ]
     },
     "execution_count": 12,
     "metadata": {},
     "output_type": "execute_result"
    }
   ],
   "source": [
    "poirot.describe_metric_set(MetricSetArn=metric_set_arn)"
   ]
  },
  {
   "cell_type": "markdown",
   "metadata": {},
   "source": [
    "## Activate the Detector\n",
    "\n",
    "Now that the MetricSet has been specified, we are ready to start training the detector, that's done by activating it."
   ]
  },
  {
   "cell_type": "code",
   "execution_count": 13,
   "metadata": {},
   "outputs": [
    {
     "data": {
      "text/plain": [
       "{'ResponseMetadata': {'RequestId': '8181c107-bbf5-4dd8-82bb-35fdea8ca4a9',\n",
       "  'HTTPStatusCode': 200,\n",
       "  'HTTPHeaders': {'date': 'Wed, 04 Nov 2020 19:22:59 GMT',\n",
       "   'content-type': 'application/x-amz-json-1.1',\n",
       "   'content-length': '2',\n",
       "   'connection': 'keep-alive',\n",
       "   'x-amzn-requestid': '8181c107-bbf5-4dd8-82bb-35fdea8ca4a9',\n",
       "   'x-amz-apigw-id': 'VfzfBG8YIAMFXWA=',\n",
       "   'x-amzn-trace-id': 'Root=1-5fa2ff93-500caf0844fa6b2753b38422'},\n",
       "  'RetryAttempts': 0}}"
      ]
     },
     "execution_count": 13,
     "metadata": {},
     "output_type": "execute_result"
    }
   ],
   "source": [
    "poirot.activate_anomaly_detector(AnomalyDetectorArn = anomaly_detector_arn)"
   ]
  },
  {
   "cell_type": "markdown",
   "metadata": {},
   "source": [
    "## Create Anomaly Alerts:\n",
    "\n",
    "Once your detector is active, you can attach alerts to it. `Alerts` are customized notifications available via the Amazon Simple Notification Service (SNS), configurable directly via the ALFM console and SDK. These alerts notify you whenever an outlier of a specified severity level is detected. Severity levels are a measure of the urgency or criticality of detected outliers. Alerts are meant to guide you towards relative prioritization of the outliers. ALFM supports Critical, High, Medium, and Low thresholds. For example, you can set an alert on your detector to notify you whenever an outlier with a Medium severity level or greater is detected.\n",
    "\n",
    "\n",
    "Before we get to creating an alert, 2 additional things are needed:\n",
    "\n",
    "1. A role giving ALFM access to SNS\n",
    "2. An SNS topic to deliver the alerts to\n",
    "\n",
    "The cells below will guide you through creating those and then it is time to create the alert.\n"
   ]
  },
  {
   "cell_type": "code",
   "execution_count": 14,
   "metadata": {},
   "outputs": [],
   "source": [
    "import json\n",
    "import time"
   ]
  },
  {
   "cell_type": "code",
   "execution_count": 15,
   "metadata": {},
   "outputs": [
    {
     "name": "stdout",
     "output_type": "stream",
     "text": [
      "arn:aws:iam::059124553121:role/PoirotSNSFullAccessCF\n"
     ]
    }
   ],
   "source": [
    "iam = boto3.client(\"iam\")\n",
    "role_name = \"ALFMSNSFullAccessCF\"\n",
    "assume_role_policy_document = {\n",
    "    \"Version\": \"2012-10-17\",\n",
    "    \"Statement\": [\n",
    "        {\n",
    "          \"Effect\": \"Allow\",\n",
    "          \"Principal\": {\n",
    "            \"Service\": \"poirot.amazonaws.com\"\n",
    "          },\n",
    "          \"Action\": \"sts:AssumeRole\"\n",
    "        }\n",
    "    ]\n",
    "}\n",
    "\n",
    "create_role_response = iam.create_role(\n",
    "    RoleName = role_name,\n",
    "    AssumeRolePolicyDocument = json.dumps(assume_role_policy_document)\n",
    ")\n",
    "\n",
    "# Now add SNS support\n",
    "iam.attach_role_policy(\n",
    "    PolicyArn='arn:aws:iam::aws:policy/AmazonSNSFullAccess',\n",
    "    RoleName=role_name\n",
    ")\n",
    "time.sleep(60) # wait for a minute to allow IAM role policy attachment to propagate\n",
    "\n",
    "role_arn = create_role_response[\"Role\"][\"Arn\"]\n",
    "print(role_arn)"
   ]
  },
  {
   "cell_type": "markdown",
   "metadata": {},
   "source": [
    "Now create the SNS topic for the alerts:\n",
    "\n",
    "**UPDATE YOUR CELL NUMBER BELOW!!!** "
   ]
  },
  {
   "cell_type": "code",
   "execution_count": 16,
   "metadata": {},
   "outputs": [
    {
     "data": {
      "text/plain": [
       "{'SubscriptionArn': 'arn:aws:sns:us-east-1:059124553121:anomalyalertsCF:964ec8e2-63c1-40b6-ad45-3b7472a53ff4',\n",
       " 'ResponseMetadata': {'RequestId': 'bdface74-4a1f-5ce9-bc7e-966948023754',\n",
       "  'HTTPStatusCode': 200,\n",
       "  'HTTPHeaders': {'x-amzn-requestid': 'bdface74-4a1f-5ce9-bc7e-966948023754',\n",
       "   'content-type': 'text/xml',\n",
       "   'content-length': '365',\n",
       "   'date': 'Wed, 04 Nov 2020 19:24:13 GMT'},\n",
       "  'RetryAttempts': 0}}"
      ]
     },
     "execution_count": 16,
     "metadata": {},
     "output_type": "execute_result"
    }
   ],
   "source": [
    "sns_client = boto3.client(\"sns\")\n",
    "topic = sns_client.create_topic(Name=\"anomalyalertsCF\")\n",
    "topic_arn = topic['TopicArn']\n",
    "\n",
    "# Change to your cell\n",
    "number = \"+19102842169\" # Change to your cell\n",
    "\n",
    "sns_client.subscribe(\n",
    "        TopicArn=topic_arn,\n",
    "        Protocol='sms',\n",
    "        Endpoint=number  \n",
    ")"
   ]
  },
  {
   "cell_type": "markdown",
   "metadata": {},
   "source": [
    "Lastly execute the cell below to configure the alerts to notify your topic."
   ]
  },
  {
   "cell_type": "code",
   "execution_count": 17,
   "metadata": {},
   "outputs": [
    {
     "data": {
      "text/plain": [
       "'arn:aws:poirot:us-east-1:059124553121:Alert:initial-poirot-testing-cf-alert-1'"
      ]
     },
     "execution_count": 17,
     "metadata": {},
     "output_type": "execute_result"
    }
   ],
   "source": [
    "response = poirot.create_alert(\n",
    "    Action = {\n",
    "      \"SNSConfiguration\": { \n",
    "         \"RoleArn\": role_arn,\n",
    "         \"SnsTopicArn\": topic_arn\n",
    "      }\n",
    "    },\n",
    "    AlertDescription = \"Test Alert 1\",\n",
    "    AlertName = project + \"-alert-1\",\n",
    "    AnomalyDetectorArn = anomaly_detector_arn,\n",
    "    AlertSensitivityThreshold = 50\n",
    ")\n",
    "\n",
    "alert_arn = response[\"AlertArn\"]\n",
    "alert_arn"
   ]
  },
  {
   "cell_type": "markdown",
   "metadata": {},
   "source": [
    "To make things easier on yourself we are going to leverage the magic functions of Ipython in order to save a few variables for later. \n",
    "\n",
    "Once you have executed the cells below, move on to `2.GenerateDataForALFM.ipynb`"
   ]
  },
  {
   "cell_type": "code",
   "execution_count": 18,
   "metadata": {},
   "outputs": [
    {
     "name": "stdout",
     "output_type": "stream",
     "text": [
      "Stored 'project' (str)\n",
      "Stored 's3_bucket' (str)\n",
      "Stored 'frequency' (str)\n"
     ]
    }
   ],
   "source": [
    "%store project\n",
    "%store s3_bucket\n",
    "%store frequency\n"
   ]
  },
  {
   "cell_type": "code",
   "execution_count": null,
   "metadata": {},
   "outputs": [],
   "source": []
  }
 ],
 "metadata": {
  "kernelspec": {
   "display_name": "Python 3",
   "language": "python",
   "name": "python3"
  },
  "language_info": {
   "codemirror_mode": {
    "name": "ipython",
    "version": 3
   },
   "file_extension": ".py",
   "mimetype": "text/x-python",
   "name": "python",
   "nbconvert_exporter": "python",
   "pygments_lexer": "ipython3",
   "version": "3.7.0"
  }
 },
 "nbformat": 4,
 "nbformat_minor": 4
}
