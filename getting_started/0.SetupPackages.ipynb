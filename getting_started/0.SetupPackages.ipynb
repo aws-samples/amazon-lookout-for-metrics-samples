{
 "cells": [
  {
   "cell_type": "markdown",
   "metadata": {},
   "source": [
    "# Setting Up Your Environment\n",
    "\n",
    "This notebook assumes you completed the earlier steps in `README.md`, if you did not, go back and do that, the notebook will wait patiently for you to come back.\n",
    "\n",
    "Now the first thing to do is to patch the local copies of botocore, boto3, and the awscli. To do that we must first remove the old versions, then install the correct beta versions.\n",
    "\n",
    "\n",
    "## Removing the Old Versions:"
   ]
  },
  {
   "cell_type": "code",
   "execution_count": null,
   "metadata": {},
   "outputs": [],
   "source": [
    "!pip uninstall -y awscli\n",
    "!pip uninstall -y boto3\n",
    "!pip uninstall -y botocore"
   ]
  },
  {
   "cell_type": "markdown",
   "metadata": {},
   "source": [
    "## Installing the Beta Versions\n",
    "\n",
    "The commands below will create a location in `~/SageMaker/.sdk` to house the betas, this will allow them to persist if you need them after a reboot. \n",
    "\n",
    "At present yoiu will need to upload `48.zip` into this directory and the commands below will work just fine. Or you will need to obtain a recent release of the beta SDK. This block will be updated prior to any launch event."
   ]
  },
  {
   "cell_type": "code",
   "execution_count": null,
   "metadata": {},
   "outputs": [],
   "source": [
    "!rm -rf ~/SageMaker/.sdk\n",
    "!mkdir -p ~/SageMaker/.sdk\n",
    "!unzip ~/SageMaker/48.zip -d ~/SageMaker/.sdk"
   ]
  },
  {
   "cell_type": "code",
   "execution_count": null,
   "metadata": {},
   "outputs": [],
   "source": [
    "!pip install ~/SageMaker/.sdk/botocore-1.19.30-py2.py3-none-any.whl  \n",
    "!pip install ~/SageMaker/.sdk/boto3-1.16.30-py2.py3-none-any.whl  \n",
    "!pip install ~/SageMaker/.sdk/awscli-1.18.190-py2.py3-none-any.whl  "
   ]
  },
  {
   "cell_type": "markdown",
   "metadata": {},
   "source": [
    "## Validating \n",
    "\n",
    "Just a test to make sure things are working correctly now that we have patched the SDK."
   ]
  },
  {
   "cell_type": "code",
   "execution_count": null,
   "metadata": {},
   "outputs": [],
   "source": [
    "import boto3\n",
    "region = \"us-west-2\"\n",
    "session = boto3.Session(region_name = region)\n",
    "\n",
    "# FIXME : Beta endpoint\n",
    "L4M = session.client( \"lookoutmetrics\", endpoint_url='https://lookoutmetrics-beta.us-west-2.amazonaws.com/' )\n",
    "L4M.list_metric_sets()"
   ]
  },
  {
   "cell_type": "markdown",
   "metadata": {},
   "source": [
    "If the code above executed with a 200 response code, you are now ready to move to `1.GettingStartedWithALFM.ipynb`. \n",
    "\n",
    "Good luck!"
   ]
  },
  {
   "cell_type": "code",
   "execution_count": null,
   "metadata": {},
   "outputs": [],
   "source": []
  }
 ],
 "metadata": {
  "kernelspec": {
   "display_name": "conda_python3",
   "language": "python",
   "name": "conda_python3"
  },
  "language_info": {
   "codemirror_mode": {
    "name": "ipython",
    "version": 3
   },
   "file_extension": ".py",
   "mimetype": "text/x-python",
   "name": "python",
   "nbconvert_exporter": "python",
   "pygments_lexer": "ipython3",
   "version": "3.6.10"
  }
 },
 "nbformat": 4,
 "nbformat_minor": 4
}
