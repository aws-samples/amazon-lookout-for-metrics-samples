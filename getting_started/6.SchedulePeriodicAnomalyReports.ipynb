{
 "cells": [
  {
   "attachments": {},
   "cell_type": "markdown",
   "metadata": {},
   "source": [
    "### Retrieve anomalies from lookout for metrics (L4M) for a specified period"
   ]
  },
  {
   "attachments": {},
   "cell_type": "markdown",
   "metadata": {},
   "source": [
    "The following example shows how you can retrieve historical time series of anomalies from lookout for metrics.  \n",
    "This example assumes you already have a running anomaly detector in Lookout For Metrics. You can refer to the [documentation](https://docs.aws.amazon.com/lookoutmetrics/latest/dev/detectors-setup.html) on how this can be set up.\n",
    "You will also need compute to run the code. E.g. An Amazon EventBridge rule that runs on a schedule to trigger a lambda function. You can refer to the [documentation](https://docs.aws.amazon.com/eventbridge/latest/userguide/eb-create-rule-schedule.html) on how this can be set up. "
   ]
  },
  {
   "attachments": {},
   "cell_type": "markdown",
   "metadata": {},
   "source": [
    "#### Define constants used in Lookout for metrics APIs"
   ]
  },
  {
   "cell_type": "code",
   "execution_count": 2,
   "metadata": {},
   "outputs": [],
   "source": [
    "import boto3\n",
    "import datetime\n",
    "import pandas as pd"
   ]
  },
  {
   "cell_type": "code",
   "execution_count": null,
   "metadata": {},
   "outputs": [],
   "source": [
    "region = '<enter your region here>' \n",
    "l4m_client = boto3.client('lookoutmetrics',region_name=region)\n",
    "lookback_period_in_days = 730\n",
    "sensitivity_threshold = 50\n",
    "max_results = 50\n",
    "detector_arn = '<enter your detector arn here>'"
   ]
  },
  {
   "attachments": {},
   "cell_type": "markdown",
   "metadata": {},
   "source": [
    "#### Define a function that retrieves the historical anomalies  \n",
    "Anomalies are only retrieved if the end dates of anomalies fall within the lookback period specified"
   ]
  },
  {
   "cell_type": "code",
   "execution_count": null,
   "metadata": {},
   "outputs": [],
   "source": [
    "def retrieve_anomalies(client,lookback_period_in_days,sensitivity_threshold,max_results,detector_arn):\n",
    "    end_date = datetime.datetime.now()\n",
    "    start_date = end_date - datetime.timedelta(days=lookback_period_in_days)\n",
    "    earliest_end_date = datetime.datetime.now()\n",
    "\n",
    "    anomaly_list = []\n",
    "    next_token = ''\n",
    "\n",
    "    params = dict(\n",
    "        AnomalyDetectorArn = detector_arn,\n",
    "        SensitivityThreshold = sensitivity_threshold,\n",
    "        MaxResults = max_results\n",
    "    )\n",
    "\n",
    "    while start_date < earliest_end_date:\n",
    "        \n",
    "        # retrieve anomalies' group ids, start time, end time, metric name from L4M\n",
    "        if not next_token:\n",
    "            response = client.list_anomaly_group_summaries(\n",
    "                **params\n",
    "            )\n",
    "        else:\n",
    "            response = client.list_anomaly_group_summaries(\n",
    "                **params,NextToken=next_token\n",
    "            )\n",
    "        \n",
    "        earliest_end_date_str = response['AnomalyGroupSummaryList'][-1]['EndTime'].split('T')[0]\n",
    "        earliest_end_date = datetime.datetime.strptime(earliest_end_date_str,'%Y-%m-%d')\n",
    "\n",
    "        anomaly_groups = [{'id':anomaly['AnomalyGroupId'],'start_time':datetime.datetime.strptime(anomaly['StartTime'].split('T')[0],'%Y-%m-%d'),'end_time':datetime.datetime.strptime(anomaly['EndTime'].split('T')[0],'%Y-%m-%d'),'metric_name':anomaly['PrimaryMetricName']} for anomaly in response['AnomalyGroupSummaryList']]\n",
    "        anomaly_list += anomaly_groups\n",
    "\n",
    "        try:\n",
    "            next_token = response['NextToken']\n",
    "        except:\n",
    "            break\n",
    "\n",
    "    anomaly_list.reverse()\n",
    "\n",
    "    # filter off data that do not fall within the lookback period\n",
    "    cutoff_index = None\n",
    "    for idx,anomaly in enumerate(anomaly_list):\n",
    "        if start_date <= anomaly['end_time']:\n",
    "            cutoff_index = idx\n",
    "            break\n",
    "    if cutoff_index is not None:\n",
    "        anomaly_filtered = anomaly_list[cutoff_index:]\n",
    "    else:\n",
    "        anomaly_filtered = []\n",
    "\n",
    "    df = pd.DataFrame(columns=['id','metric','timestamp','value'])\n",
    "\n",
    "    ids = []\n",
    "    metrics = []\n",
    "    timestamps = []\n",
    "    values = []\n",
    "\n",
    "    # retrieve time series values for metric\n",
    "    for anomaly in anomaly_filtered:\n",
    "\n",
    "        response = client.list_anomaly_group_time_series(\n",
    "            AnomalyDetectorArn=detector_arn,\n",
    "            AnomalyGroupId=anomaly['id'],\n",
    "            MetricName=anomaly['metric_name'],\n",
    "            MaxResults=max_results,\n",
    "        )\n",
    "\n",
    "        length_of_time_series = len(response['TimestampList'])\n",
    "\n",
    "        ids += [anomaly['id']]*length_of_time_series\n",
    "        metrics += [response['MetricName']]*length_of_time_series\n",
    "        timestamps += [timestamp.split('Z')[0] for timestamp in response['TimestampList']]\n",
    "        values += response['TimeSeriesList'][0]['MetricValueList']\n",
    "    \n",
    "    # return data in pandas dataframe format and remove all rows with null values\n",
    "    d = {\n",
    "        'id':ids,\n",
    "        'metric':metrics,\n",
    "        'timestamp':timestamps,\n",
    "        'value':values\n",
    "    }\n",
    "    df = pd.DataFrame(data=d)\n",
    "    df.loc[:,'timestamp'] = pd.to_datetime(df.loc[:,'timestamp'])\n",
    "    return df.dropna()"
   ]
  },
  {
   "attachments": {},
   "cell_type": "markdown",
   "metadata": {},
   "source": [
    "#### Define constants used in SES API"
   ]
  },
  {
   "cell_type": "code",
   "execution_count": null,
   "metadata": {},
   "outputs": [],
   "source": [
    "from botocore.exceptions import ClientError\n",
    "from email.mime.application import MIMEApplication\n",
    "from email.mime.multipart import MIMEMultipart\n",
    "from email.mime.text import MIMEText"
   ]
  },
  {
   "cell_type": "code",
   "execution_count": null,
   "metadata": {},
   "outputs": [],
   "source": [
    "ses_client = boto3.client('ses',region_name=region)\n",
    "sender = '<your send from email address>'\n",
    "recipient = '<your send to email address>'"
   ]
  },
  {
   "attachments": {},
   "cell_type": "markdown",
   "metadata": {},
   "source": [
    "#### Define a function that sends anomaly report through emails using Amazon SES"
   ]
  },
  {
   "cell_type": "code",
   "execution_count": null,
   "metadata": {},
   "outputs": [],
   "source": [
    "def notify_ses(df):\n",
    "    msg = MIMEMultipart()\n",
    "    msg[\"Subject\"] = \"l4m anomaly report\"\n",
    "    msg[\"From\"] = sender\n",
    "    msg[\"To\"] = recipient\n",
    "\n",
    "    body = MIMEText(\"View attached file for anomalies detected\")\n",
    "    msg.attach(body)\n",
    "\n",
    "    attachment = bytes(df.to_csv(index=False),encoding='utf-8')\n",
    "\n",
    "    part = MIMEApplication(attachment)\n",
    "    part.add_header(\"Content-Disposition\",\n",
    "                    \"attachment\",\n",
    "                    filename='anomalies.csv')\n",
    "    msg.attach(part)\n",
    "    try:\n",
    "        response = ses_client.send_raw_email(\n",
    "            Source=sender,\n",
    "            Destinations=[recipient],\n",
    "            RawMessage={\"Data\": msg.as_string()}\n",
    "        )\n",
    "    except ClientError as e:\n",
    "        print(e.response['Error']['Message'])\n",
    "    else:\n",
    "        print(f\"Email sent! Message ID: {response['MessageId']}\")"
   ]
  },
  {
   "cell_type": "code",
   "execution_count": null,
   "metadata": {},
   "outputs": [],
   "source": [
    "df = retrieve_anomalies(l4m_client,lookback_period_in_days,sensitivity_threshold,max_results,detector_arn)"
   ]
  },
  {
   "cell_type": "code",
   "execution_count": null,
   "metadata": {},
   "outputs": [],
   "source": [
    "notify_ses(df)"
   ]
  }
 ],
 "metadata": {
  "kernelspec": {
   "display_name": "Python 3.9.14 ('venv': venv)",
   "language": "python",
   "name": "python3"
  },
  "language_info": {
   "codemirror_mode": {
    "name": "ipython",
    "version": 3
   },
   "file_extension": ".py",
   "mimetype": "text/x-python",
   "name": "python",
   "nbconvert_exporter": "python",
   "pygments_lexer": "ipython3",
   "version": "3.9.15"
  },
  "orig_nbformat": 4,
  "vscode": {
   "interpreter": {
    "hash": "49a412558dd26c26c4e2e3121c55fafb5881a267752e00e93a69a8e44452fac6"
   }
  }
 },
 "nbformat": 4,
 "nbformat_minor": 2
}
