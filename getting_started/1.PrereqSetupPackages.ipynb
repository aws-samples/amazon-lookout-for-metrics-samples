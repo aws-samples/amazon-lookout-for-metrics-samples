{
 "cells": [
  {
   "cell_type": "markdown",
   "metadata": {},
   "source": [
    "# Setting Up Your Environment\n",
    "\n",
    "This notebook assumes you completed the earlier steps in `README.md`, if you did not, go back and do that, the notebook will wait patiently for you to come back.\n",
    "\n",
    "Now the first thing to do is to patch the local copies of botocore, boto3, and the awscli. To do that we must first remove the old versions, then install the correct beta versions."
   ]
  },
  {
   "cell_type": "markdown",
   "metadata": {},
   "source": [
    "## Import Packages\n",
    "\n",
    "The packages below from inside Python's standard library will enable us to better extract and load content within this local system later."
   ]
  },
  {
   "cell_type": "code",
   "execution_count": null,
   "metadata": {},
   "outputs": [],
   "source": [
    "import os\n",
    "import shutil\n",
    "import zipfile"
   ]
  },
  {
   "cell_type": "markdown",
   "metadata": {},
   "source": [
    "## Removing the Old Versions:\n",
    "\n",
    "Run each cell below, the `pip` command in each will forcibly remove one package, once done you will be ready to install the beta versions which are needed until the service leaves the preview state."
   ]
  },
  {
   "cell_type": "code",
   "execution_count": null,
   "metadata": {},
   "outputs": [],
   "source": [
    "%pip uninstall -y awscli"
   ]
  },
  {
   "cell_type": "code",
   "execution_count": null,
   "metadata": {},
   "outputs": [],
   "source": [
    "%pip uninstall -y boto3"
   ]
  },
  {
   "cell_type": "code",
   "execution_count": null,
   "metadata": {},
   "outputs": [],
   "source": [
    "%pip uninstall -y botocore"
   ]
  },
  {
   "cell_type": "markdown",
   "metadata": {},
   "source": [
    "## Installing the Beta Versions\n",
    "\n",
    "The commands below will create a location in the home folder to house the betas, this will allow them to persist if you need them after a reboot. \n",
    "\n",
    "When you sign up, you will be allow-listed soon after signing up for preview. Once allow-listed, you will receive a welcome email with access to the most recent release of the beta SDK, SDK documentation, and the API guide. The link to the most recent release of the beta SDK will point you to a `.zip` file in a S3 bucket.\n",
    "\n",
    "To Download the SDK to this instance:\n",
    "\n",
    "1. Update the CURL line below with the URL provided in your welcome email.\n",
    "2. Copy the `redirecturl` from the results and paste it in the next cell, then run it.\n",
    "3. Run the next few cells to rename and extract it."
   ]
  },
  {
   "cell_type": "code",
   "execution_count": 2,
   "metadata": {},
   "outputs": [
    {
     "name": "stdout",
     "output_type": "stream",
     "text": [
      "<html>\n",
      "<head>\n",
      "<meta charset='UTF-8'>\n",
      "<meta name='robots' content='noindex'>\n",
      "<script language='javascript'>\n",
      "  var redirecturl = 'https://lm-6b532a78-5a5b-41c5-8f45-75aac48059f8.s3.amazonaws.com/2020-12-08/amazon-lookoutmetrics-python-sdk-2020-12-08.zip?mkt_tok=eyJpIjoiWVRSbU9EaGxOVFl6WTJRNSIsInQiOiJiMVZXQ0g2eVZ0YzM3MFZJR2VqSDFWMkxoVkR0bXB0dEw1R3loRE54b2hkTlZjemVrQU9yRzZJbjh2N2VpUndVcUw4YUNCUmdKMDFod3RtRFd3Q08ybVlrenhQdytXb05rMVdpUHVHaFV0NmRjOTVydkNzQnhlSHU3T0x3bE1oTnc0eU9yczlkeDBKVkduN1ErOXJWbHc9PSJ9';\n",
      "  function redirect() {\n",
      "    var anchor = window.location.hash;\n",
      "    window.self.location = redirecturl + anchor;\n",
      "  }\n",
      "</script>\n",
      "</head>\n",
      "<body onload=redirect()></body>\n",
      "</html>"
     ]
    }
   ],
   "source": [
    "!curl -L https://email.awscloud.com/Bz0mzT0Mk000Y7uZ0LcOYVtt"
   ]
  },
  {
   "cell_type": "code",
   "execution_count": null,
   "metadata": {},
   "outputs": [],
   "source": [
    "!wget \"put_url_here\""
   ]
  },
  {
   "cell_type": "code",
   "execution_count": null,
   "metadata": {},
   "outputs": [],
   "source": [
    "sdk_filename = \"amazon-lookoutmetrics-python-sdk-2020-12-08.zip\"\n",
    "sdk_filename_long = [x for x in os.listdir() if sdk_filename in x][0]\n",
    "!mv {sdk_filename_long} {sdk_filename}"
   ]
  },
  {
   "cell_type": "code",
   "execution_count": null,
   "metadata": {},
   "outputs": [],
   "source": [
    "sdk_extract_dst = os.path.join(\"../sdk\")\n",
    "\n",
    "if os.path.exists(sdk_extract_dst):\n",
    "    shutil.rmtree(sdk_extract_dst)\n",
    "os.makedirs(sdk_extract_dst)\n",
    "\n",
    "zip_filename = os.path.join(\"./\", sdk_filename)\n",
    "\n",
    "with zipfile.ZipFile( zip_filename, \"r\" ) as zip_fd:\n",
    "    zip_fd.extractall(sdk_extract_dst)"
   ]
  },
  {
   "cell_type": "markdown",
   "metadata": {},
   "source": [
    "Now, run the commands below to locate and install the SDK. After this your environment will be patched and ready."
   ]
  },
  {
   "cell_type": "code",
   "execution_count": null,
   "metadata": {},
   "outputs": [],
   "source": [
    "import glob\n",
    "botocore_whl = glob.glob(sdk_extract_dst+'/botocore*.whl',  recursive=False)[0]\n",
    "awscli_whl = glob.glob(sdk_extract_dst+'/awscli*.whl',  recursive=False)[0]\n",
    "boto3_whl = glob.glob(sdk_extract_dst+'/boto3*.whl',  recursive=False)[0]"
   ]
  },
  {
   "cell_type": "code",
   "execution_count": null,
   "metadata": {},
   "outputs": [],
   "source": [
    "%pip install {sdk_extract_dst}/{botocore_whl}"
   ]
  },
  {
   "cell_type": "code",
   "execution_count": null,
   "metadata": {},
   "outputs": [],
   "source": [
    "%pip install {sdk_extract_dst}/{awscli_whl}"
   ]
  },
  {
   "cell_type": "code",
   "execution_count": null,
   "metadata": {},
   "outputs": [],
   "source": [
    "%pip install {sdk_extract_dst}/{boto3_whl}"
   ]
  },
  {
   "cell_type": "markdown",
   "metadata": {},
   "source": [
    "## Validating \n",
    "\n",
    "Just a test to make sure things are working correctly now that we have patched the SDK."
   ]
  },
  {
   "cell_type": "code",
   "execution_count": null,
   "metadata": {},
   "outputs": [],
   "source": [
    "import boto3\n",
    "\n",
    "L4M = boto3.client( \"lookoutmetrics\", region_name=\"us-west-2\" )\n",
    "L4M.list_metric_sets()"
   ]
  },
  {
   "cell_type": "markdown",
   "metadata": {},
   "source": [
    "If the code above executed with a 200 response code, you are now ready to move to `2.PrereqSetupData.ipynb`. \n",
    "\n",
    "Good luck!"
   ]
  },
  {
   "cell_type": "code",
   "execution_count": null,
   "metadata": {},
   "outputs": [],
   "source": []
  }
 ],
 "metadata": {
  "kernelspec": {
   "display_name": "Python 3",
   "language": "python",
   "name": "python3"
  },
  "language_info": {
   "codemirror_mode": {
    "name": "ipython",
    "version": 3
   },
   "file_extension": ".py",
   "mimetype": "text/x-python",
   "name": "python",
   "nbconvert_exporter": "python",
   "pygments_lexer": "ipython3",
   "version": "3.7.0"
  }
 },
 "nbformat": 4,
 "nbformat_minor": 4
}
