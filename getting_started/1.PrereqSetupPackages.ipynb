{
 "cells": [
  {
   "cell_type": "markdown",
   "metadata": {},
   "source": [
    "# Setting Up Your Environment\n",
    "\n",
    "This notebook assumes you completed the earlier steps in `README.md`, if you did not, go back and do that, the notebook will wait patiently for you to come back.\n",
    "\n",
    "Now the first thing to do is to patch the local copies of botocore, boto3, and the awscli. To do that we must first remove the old versions, then install the correct beta versions."
   ]
  },
  {
   "cell_type": "markdown",
   "metadata": {},
   "source": [
    "## Import libraries"
   ]
  },
  {
   "cell_type": "code",
   "execution_count": null,
   "metadata": {},
   "outputs": [],
   "source": [
    "import os\n",
    "import shutil\n",
    "import zipfile"
   ]
  },
  {
   "cell_type": "markdown",
   "metadata": {},
   "source": [
    "## Removing the Old Versions:"
   ]
  },
  {
   "cell_type": "code",
   "execution_count": null,
   "metadata": {},
   "outputs": [],
   "source": [
    "pip uninstall -y awscli"
   ]
  },
  {
   "cell_type": "code",
   "execution_count": null,
   "metadata": {},
   "outputs": [],
   "source": [
    "pip uninstall -y boto3"
   ]
  },
  {
   "cell_type": "code",
   "execution_count": null,
   "metadata": {},
   "outputs": [],
   "source": [
    "pip uninstall -y botocore"
   ]
  },
  {
   "cell_type": "markdown",
   "metadata": {},
   "source": [
    "## Installing the Beta Versions\n",
    "\n",
    "The commands below will create a location in `~/SageMaker/.sdk` to house the betas, this will allow them to persist if you need them after a reboot. \n",
    "\n",
    "At present you will need to upload `48.zip` into this \"getting_started/\" directory and the commands below will work just fine. Or you will need to obtain a recent release of the beta SDK. This block will be updated prior to any launch event."
   ]
  },
  {
   "cell_type": "code",
   "execution_count": null,
   "metadata": {},
   "outputs": [],
   "source": [
    "sdk_extract_dst = os.path.join(\"../sdk\")\n",
    "\n",
    "if os.path.exists(sdk_extract_dst):\n",
    "    shutil.rmtree(sdk_extract_dst)\n",
    "os.makedirs(sdk_extract_dst)\n",
    "\n",
    "zip_filename = os.path.join(\"./48.zip\")\n",
    "\n",
    "with zipfile.ZipFile( zip_filename, \"r\" ) as zip_fd:\n",
    "    zip_fd.extractall(sdk_extract_dst)"
   ]
  },
  {
   "cell_type": "code",
   "execution_count": null,
   "metadata": {},
   "outputs": [],
   "source": [
    "pip install {sdk_extract_dst}/botocore-1.19.30-py2.py3-none-any.whl"
   ]
  },
  {
   "cell_type": "code",
   "execution_count": null,
   "metadata": {},
   "outputs": [],
   "source": [
    "pip install {sdk_extract_dst}/boto3-1.16.30-py2.py3-none-any.whl"
   ]
  },
  {
   "cell_type": "code",
   "execution_count": null,
   "metadata": {},
   "outputs": [],
   "source": [
    "pip install {sdk_extract_dst}/awscli-1.18.190-py2.py3-none-any.whl "
   ]
  },
  {
   "cell_type": "markdown",
   "metadata": {},
   "source": [
    "## Validating \n",
    "\n",
    "Just a test to make sure things are working correctly now that we have patched the SDK."
   ]
  },
  {
   "cell_type": "code",
   "execution_count": null,
   "metadata": {},
   "outputs": [],
   "source": [
    "import boto3\n",
    "\n",
    "region = \"us-west-2\"\n",
    "session = boto3.Session(region_name = region)\n",
    "\n",
    "# FIXME : Beta endpoint\n",
    "L4M = session.client( \"lookoutmetrics\", endpoint_url='https://lookoutmetrics-beta.us-west-2.amazonaws.com/' )\n",
    "L4M.list_metric_sets()"
   ]
  },
  {
   "cell_type": "markdown",
   "metadata": {},
   "source": [
    "If the code above executed with a 200 response code, you are now ready to move to `1.PrereqSetupData`. \n",
    "\n",
    "Good luck!"
   ]
  },
  {
   "cell_type": "code",
   "execution_count": null,
   "metadata": {},
   "outputs": [],
   "source": []
  }
 ],
 "metadata": {
  "kernelspec": {
   "display_name": "Python 3",
   "language": "python",
   "name": "python3"
  },
  "language_info": {
   "codemirror_mode": {
    "name": "ipython",
    "version": 3
   },
   "file_extension": ".py",
   "mimetype": "text/x-python",
   "name": "python",
   "nbconvert_exporter": "python",
   "pygments_lexer": "ipython3",
   "version": "3.7.6"
  }
 },
 "nbformat": 4,
 "nbformat_minor": 4
}
