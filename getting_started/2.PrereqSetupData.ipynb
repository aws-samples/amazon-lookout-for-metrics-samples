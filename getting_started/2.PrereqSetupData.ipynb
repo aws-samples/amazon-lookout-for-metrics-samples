{
 "cells": [
  {
   "cell_type": "markdown",
   "metadata": {},
   "source": [
    "# Prerequisite: Set-up S3 bucket\n",
    "\n",
    "In this notebook, we are going to use the provided e-commerce dataset to demonstrate the functionality of Amazon Lookout For Metrics.\n",
    "\n",
    "Data set-up workflow:\n",
    "1. Create bucket\n",
    "2. Uncompress dataset\n",
    "3. Save data to bucket\n",
    "\n",
    "\n",
    "### Create bucket\n",
    "\n",
    "As mentioned above, data needs to exist somewhere. Let's run the next cell to create a bucket for you to use."
   ]
  },
  {
   "cell_type": "code",
   "execution_count": null,
   "metadata": {},
   "outputs": [],
   "source": [
    "import boto3\n",
    "from utility import create_bucket\n",
    "\n",
    "account_id = boto3.client('sts').get_caller_identity().get('Account')\n",
    "s3_bucket = account_id + \"-lookoutmetricscf\"\n",
    "\n",
    "region = \"us-west-2\"\n",
    "create_bucket(s3_bucket, region=region)\n",
    "\n",
    "s3_bucket"
   ]
  },
  {
   "cell_type": "markdown",
   "metadata": {},
   "source": [
    "### Uncompress dataset\n",
    "\n",
    "Let's uncompress the provided e-commerce data."
   ]
  },
  {
   "cell_type": "code",
   "execution_count": null,
   "metadata": {
    "scrolled": true
   },
   "outputs": [],
   "source": [
    "!rm -rf ~/SageMaker/getting_started/data\n",
    "!mkdir -p ~/SageMaker/getting_started/data\n",
    "!unzip ~/SageMaker/getting_started/ecommerce.zip -d ~/SageMaker/getting_started/data/"
   ]
  },
  {
   "cell_type": "markdown",
   "metadata": {},
   "source": [
    "Before we proceed to the next step let's take a quick look at the folder structure. Specifically, notice that we only have one `input.csv` in the `backtest`. Whereas, data in the `live` folder is broken down into days (ex: `20201001` for October 1, 2020) and hours (ex: `0200` for 2:00AM)\n",
    "\n",
    "Also, notice that our data goes far into the future. Of course, this is unrealistic of any real-world scenarios but it works for this demontration."
   ]
  },
  {
   "cell_type": "code",
   "execution_count": null,
   "metadata": {
    "scrolled": true
   },
   "outputs": [],
   "source": [
    "from utility import DisplayablePath\n",
    "from pathlib import Path\n",
    "    \n",
    "paths = DisplayablePath.make_tree(Path('data'))\n",
    "for path in paths:\n",
    "    print(path.displayable())"
   ]
  },
  {
   "cell_type": "markdown",
   "metadata": {},
   "source": [
    "Now when you take a quick look into the data, you will notice the schema for `backtest` and `live` data is identical. "
   ]
  },
  {
   "cell_type": "code",
   "execution_count": null,
   "metadata": {},
   "outputs": [],
   "source": [
    "import pandas as pd\n",
    "backtest_df = pd.read_csv('data/ecommerce/backtest/input.csv')\n",
    "backtest_df.head()"
   ]
  },
  {
   "cell_type": "code",
   "execution_count": null,
   "metadata": {},
   "outputs": [],
   "source": [
    "live_sample_df = pd.read_csv('data/ecommerce/live/20201208/0000/20201208_000000.csv')\n",
    "live_sample_df.head()"
   ]
  },
  {
   "cell_type": "markdown",
   "metadata": {},
   "source": [
    "### Save data to bucket\n",
    "\n",
    "Finally, let save the data into to our s3 bucket."
   ]
  },
  {
   "cell_type": "code",
   "execution_count": null,
   "metadata": {},
   "outputs": [],
   "source": [
    "!aws s3 sync ~/SageMaker/getting_started/data/ecommerce/ s3://{s3_bucket}/ecommerce/"
   ]
  },
  {
   "cell_type": "markdown",
   "metadata": {},
   "source": [
    "To make things easier on yourself we are going to leverage the magic functions of Ipython in order to save a few variables for later."
   ]
  },
  {
   "cell_type": "code",
   "execution_count": null,
   "metadata": {},
   "outputs": [],
   "source": [
    "%store s3_bucket"
   ]
  },
  {
   "cell_type": "code",
   "execution_count": null,
   "metadata": {},
   "outputs": [],
   "source": []
  }
 ],
 "metadata": {
  "kernelspec": {
   "display_name": "Python 3",
   "language": "python",
   "name": "python3"
  },
  "language_info": {
   "codemirror_mode": {
    "name": "ipython",
    "version": 3
   },
   "file_extension": ".py",
   "mimetype": "text/x-python",
   "name": "python",
   "nbconvert_exporter": "python",
   "pygments_lexer": "ipython3",
   "version": "3.7.6"
  }
 },
 "nbformat": 4,
 "nbformat_minor": 4
}
